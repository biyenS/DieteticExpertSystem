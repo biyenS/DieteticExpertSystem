{
 "cells": [
  {
   "cell_type": "code",
   "execution_count": 3,
   "id": "1c83e225",
   "metadata": {
    "scrolled": false
   },
   "outputs": [],
   "source": [
    "import tkinter as tk\n",
    "from tkinter import ttk\n",
    "import pandas as pd\n",
    "from sklearn.model_selection import train_test_split\n",
    "from sklearn.metrics import accuracy_score\n",
    "from sklearn.preprocessing import LabelEncoder\n"
   ]
  },
  {
   "cell_type": "code",
   "execution_count": 4,
   "id": "4176c8bd",
   "metadata": {
    "scrolled": false
   },
   "outputs": [
    {
     "data": {
      "text/html": [
       "<div>\n",
       "<style scoped>\n",
       "    .dataframe tbody tr th:only-of-type {\n",
       "        vertical-align: middle;\n",
       "    }\n",
       "\n",
       "    .dataframe tbody tr th {\n",
       "        vertical-align: top;\n",
       "    }\n",
       "\n",
       "    .dataframe thead th {\n",
       "        text-align: right;\n",
       "    }\n",
       "</style>\n",
       "<table border=\"1\" class=\"dataframe\">\n",
       "  <thead>\n",
       "    <tr style=\"text-align: right;\">\n",
       "      <th></th>\n",
       "      <th>Food_items</th>\n",
       "      <th>Breakfast</th>\n",
       "      <th>Lunch</th>\n",
       "      <th>Dinner</th>\n",
       "      <th>Gain weight</th>\n",
       "      <th>Lose weight</th>\n",
       "    </tr>\n",
       "  </thead>\n",
       "  <tbody>\n",
       "    <tr>\n",
       "      <th>0</th>\n",
       "      <td>Asparagus</td>\n",
       "      <td>1</td>\n",
       "      <td>1</td>\n",
       "      <td>1</td>\n",
       "      <td>0</td>\n",
       "      <td>1</td>\n",
       "    </tr>\n",
       "    <tr>\n",
       "      <th>1</th>\n",
       "      <td>Avocados</td>\n",
       "      <td>1</td>\n",
       "      <td>1</td>\n",
       "      <td>1</td>\n",
       "      <td>0</td>\n",
       "      <td>1</td>\n",
       "    </tr>\n",
       "    <tr>\n",
       "      <th>2</th>\n",
       "      <td>Bananas</td>\n",
       "      <td>0</td>\n",
       "      <td>0</td>\n",
       "      <td>0</td>\n",
       "      <td>0</td>\n",
       "      <td>1</td>\n",
       "    </tr>\n",
       "    <tr>\n",
       "      <th>3</th>\n",
       "      <td>Bagels</td>\n",
       "      <td>1</td>\n",
       "      <td>1</td>\n",
       "      <td>1</td>\n",
       "      <td>0</td>\n",
       "      <td>1</td>\n",
       "    </tr>\n",
       "    <tr>\n",
       "      <th>4</th>\n",
       "      <td>Berries</td>\n",
       "      <td>1</td>\n",
       "      <td>1</td>\n",
       "      <td>1</td>\n",
       "      <td>0</td>\n",
       "      <td>1</td>\n",
       "    </tr>\n",
       "    <tr>\n",
       "      <th>...</th>\n",
       "      <td>...</td>\n",
       "      <td>...</td>\n",
       "      <td>...</td>\n",
       "      <td>...</td>\n",
       "      <td>...</td>\n",
       "      <td>...</td>\n",
       "    </tr>\n",
       "    <tr>\n",
       "      <th>84</th>\n",
       "      <td>Vanilla Ice cream</td>\n",
       "      <td>1</td>\n",
       "      <td>1</td>\n",
       "      <td>1</td>\n",
       "      <td>0</td>\n",
       "      <td>1</td>\n",
       "    </tr>\n",
       "    <tr>\n",
       "      <th>85</th>\n",
       "      <td>Strawberry Icecream</td>\n",
       "      <td>0</td>\n",
       "      <td>0</td>\n",
       "      <td>0</td>\n",
       "      <td>0</td>\n",
       "      <td>1</td>\n",
       "    </tr>\n",
       "    <tr>\n",
       "      <th>86</th>\n",
       "      <td>Marshmallows</td>\n",
       "      <td>0</td>\n",
       "      <td>0</td>\n",
       "      <td>0</td>\n",
       "      <td>0</td>\n",
       "      <td>1</td>\n",
       "    </tr>\n",
       "    <tr>\n",
       "      <th>87</th>\n",
       "      <td>Chocolate milk</td>\n",
       "      <td>0</td>\n",
       "      <td>0</td>\n",
       "      <td>0</td>\n",
       "      <td>0</td>\n",
       "      <td>1</td>\n",
       "    </tr>\n",
       "    <tr>\n",
       "      <th>88</th>\n",
       "      <td>Rice Pudding</td>\n",
       "      <td>0</td>\n",
       "      <td>0</td>\n",
       "      <td>0</td>\n",
       "      <td>0</td>\n",
       "      <td>1</td>\n",
       "    </tr>\n",
       "  </tbody>\n",
       "</table>\n",
       "<p>89 rows × 6 columns</p>\n",
       "</div>"
      ],
      "text/plain": [
       "             Food_items  Breakfast  Lunch  Dinner  Gain weight  Lose weight\n",
       "0            Asparagus           1      1       1            0            1\n",
       "1              Avocados          1      1       1            0            1\n",
       "2               Bananas          0      0       0            0            1\n",
       "3               Bagels           1      1       1            0            1\n",
       "4               Berries          1      1       1            0            1\n",
       "..                  ...        ...    ...     ...          ...          ...\n",
       "84    Vanilla Ice cream          1      1       1            0            1\n",
       "85  Strawberry Icecream          0      0       0            0            1\n",
       "86         Marshmallows          0      0       0            0            1\n",
       "87       Chocolate milk          0      0       0            0            1\n",
       "88         Rice Pudding          0      0       0            0            1\n",
       "\n",
       "[89 rows x 6 columns]"
      ]
     },
     "execution_count": 4,
     "metadata": {},
     "output_type": "execute_result"
    }
   ],
   "source": [
    "df = pd.read_csv('food.csv')\n",
    "df.head(99)"
   ]
  },
  {
   "cell_type": "code",
   "execution_count": 5,
   "id": "2a030d23",
   "metadata": {
    "scrolled": true
   },
   "outputs": [],
   "source": [
    "breakfast_df = df[df['Breakfast'] == 1]  \n",
    "lunch_df = df[df['Lunch'] == 1]          \n",
    "dinner_df = df[df['Dinner'] == 1]        \n"
   ]
  },
  {
   "cell_type": "code",
   "execution_count": 6,
   "id": "bfa0f86b",
   "metadata": {},
   "outputs": [],
   "source": [
    "breakfast_train, breakfast_test = train_test_split(breakfast_df, test_size=0.2, random_state=42)\n",
    "lunch_train, lunch_test = train_test_split(lunch_df, test_size=0.2, random_state=42)\n",
    "dinner_train, dinner_test = train_test_split(dinner_df, test_size=0.2, random_state=42)\n"
   ]
  },
  {
   "cell_type": "code",
   "execution_count": 7,
   "id": "1836d27a",
   "metadata": {},
   "outputs": [
    {
     "name": "stdout",
     "output_type": "stream",
     "text": [
      "Recommended breakfast items for training set: ['Berries', 'Cauliflower', 'Uttapam', 'Chia seeds', 'Dosa', 'Pop Corn - Caramel', 'Pears', 'Honey', 'Pumpkin', 'Grapes', 'Tuna Salad', 'Pasta ', 'Green Tea', 'Mushrooms', 'Asparagus ', 'Oat Bran Cooked', 'Orange juice', 'Brown Rice', 'Onions', 'Salmon', 'Avocados', 'Strawberries', 'Poha', 'Bagels ', 'Cereals-Corn Flakes', 'Tomato', 'Lentils', 'Cashew Nuts', 'Chappati', 'Pop Corn', 'Vanilla Ice cream', 'Idli', 'Coffee', 'Peas', 'Sweet Potatoes ', 'Tea']\n",
      "Recommended lunch items for training set: ['Berries', 'Cauliflower', 'Uttapam', 'Chia seeds', 'Dosa', 'Pop Corn - Caramel', 'Pears', 'Honey', 'Pumpkin', 'Grapes', 'Tuna Salad', 'Pasta ', 'Green Tea', 'Mushrooms', 'Asparagus ', 'Oat Bran Cooked', 'Orange juice', 'Brown Rice', 'Onions', 'Salmon', 'Avocados', 'Strawberries', 'Poha', 'Bagels ', 'Cereals-Corn Flakes', 'Tomato', 'Lentils', 'Cashew Nuts', 'Chappati', 'Pop Corn', 'Vanilla Ice cream', 'Idli', 'Coffee', 'Peas', 'Sweet Potatoes ', 'Tea']\n",
      "Recommended dinner items for training set: ['Berries', 'Cauliflower', 'Uttapam', 'Chia seeds', 'Dosa', 'Pop Corn - Caramel', 'Pears', 'Honey', 'Pumpkin', 'Grapes', 'Tuna Salad', 'Pasta ', 'Green Tea', 'Mushrooms', 'Asparagus ', 'Oat Bran Cooked', 'Orange juice', 'Brown Rice', 'Onions', 'Salmon', 'Avocados', 'Strawberries', 'Poha', 'Bagels ', 'Cereals-Corn Flakes', 'Tomato', 'Lentils', 'Cashew Nuts', 'Chappati', 'Pop Corn', 'Vanilla Ice cream', 'Idli', 'Coffee', 'Peas', 'Sweet Potatoes ', 'Tea']\n",
      "Recommended breakfast items for test set: ['Apples', 'Dal Makhani', 'Almonds', 'Chocolate Icecream', 'Beans', 'Quninoa', 'Brocolli', 'Orange', 'Corn']\n",
      "Recommended lunch items for test set: ['Apples', 'Dal Makhani', 'Almonds', 'Chocolate Icecream', 'Beans', 'Quninoa', 'Brocolli', 'Orange', 'Corn']\n",
      "Recommended dinner items for test set: ['Apples', 'Dal Makhani', 'Almonds', 'Chocolate Icecream', 'Beans', 'Quninoa', 'Brocolli', 'Orange', 'Corn']\n"
     ]
    }
   ],
   "source": [
    "print(\"Recommended breakfast items for training set:\", breakfast_train['Food_items'].tolist())\n",
    "print(\"Recommended lunch items for training set:\", lunch_train['Food_items'].tolist())\n",
    "print(\"Recommended dinner items for training set:\", dinner_train['Food_items'].tolist())\n",
    "\n",
    "print(\"Recommended breakfast items for test set:\", breakfast_test['Food_items'].tolist())\n",
    "print(\"Recommended lunch items for test set:\", lunch_test['Food_items'].tolist())\n",
    "print(\"Recommended dinner items for test set:\", dinner_test['Food_items'].tolist())"
   ]
  },
  {
   "cell_type": "code",
   "execution_count": 8,
   "id": "9be79ee5",
   "metadata": {},
   "outputs": [],
   "source": [
    "def recommend_meals(data, meal_type):\n",
    "    recommended_meals = []\n",
    "    for index, row in data.iterrows():\n",
    "        \n",
    "        if meal_type == 'Breakfast':\n",
    "            \n",
    "            recommended_meals.append(row['Food_items'])\n",
    "        elif meal_type == 'Lunch':\n",
    "            \n",
    "            recommended_meals.append(row['Food_items'])\n",
    "        elif meal_type == 'Dinner':\n",
    "           \n",
    "            recommended_meals.append(row['Food_items'])\n",
    "    return recommended_meals\n",
    "\n",
    "breakfast_recommendation_train = recommend_meals(breakfast_train, 'Breakfast')\n",
    "lunch_recommendation_train = recommend_meals(lunch_train, 'Lunch')\n",
    "dinner_recommendation_train = recommend_meals(dinner_train, 'Dinner')\n",
    "\n",
    "breakfast_recommendation_test = recommend_meals(breakfast_test, 'Breakfast')\n",
    "lunch_recommendation_test = recommend_meals(lunch_test, 'Lunch')\n",
    "dinner_recommendation_test = recommend_meals(dinner_test, 'Dinner')\n"
   ]
  },
  {
   "cell_type": "code",
   "execution_count": 9,
   "id": "a4affb4f",
   "metadata": {},
   "outputs": [],
   "source": [
    "\n",
    "root = tk.Tk()\n",
    "root.title(\"Diet Recommendation System\")\n",
    "input_frame = ttk.Frame(root, padding=\"20\")\n",
    "input_frame.grid(row=0, column=0, sticky=(tk.W, tk.E))\n",
    "age_label = ttk.Label(input_frame, text=\"Age:\")\n",
    "age_label.grid(row=0, column=0, sticky=tk.W)\n",
    "age_entry = ttk.Entry(input_frame)\n",
    "age_entry.grid(row=0, column=1, sticky=tk.W)\n",
    "weight_label = ttk.Label(input_frame, text=\"Weight (kg):\")\n",
    "weight_label.grid(row=1, column=0, sticky=tk.W)\n",
    "weight_entry = ttk.Entry(input_frame)\n",
    "weight_entry.grid(row=1, column=1, sticky=tk.W)\n",
    "height_label = ttk.Label(input_frame, text=\"Height (cm):\")\n",
    "height_label.grid(row=2, column=0, sticky=tk.W)\n",
    "height_entry = ttk.Entry(input_frame)\n",
    "height_entry.grid(row=2, column=1, sticky=tk.W)\n",
    "goal_label = ttk.Label(input_frame, text=\"Goal:\")\n",
    "goal_label.grid(row=3, column=0, sticky=tk.W)\n",
    "goal_var = tk.StringVar(value=\"Gain Weight\")\n",
    "gain_weight_radio = ttk.Radiobutton(input_frame, text=\"Gain Weight\", variable=goal_var, value=\"Gain Weight\")\n",
    "gain_weight_radio.grid(row=3, column=1, sticky=tk.W)\n",
    "lose_weight_radio = ttk.Radiobutton(input_frame, text=\"Lose Weight\", variable=goal_var, value=\"Lose Weight\")\n",
    "lose_weight_radio.grid(row=3, column=2, sticky=tk.W)\n",
    "\n",
    "\n"
   ]
  },
  {
   "cell_type": "code",
   "execution_count": 10,
   "id": "ca5ee764",
   "metadata": {},
   "outputs": [],
   "source": [
    "doctor_recommended = {\n",
    "    'breakfast': {'user1': 'Oatmeal', 'user2': 'Scrambled Eggs','user3': 'banana' },\n",
    "    'lunch': {'user1': 'Quinoa Bowl', 'user2': 'Grilled Chicken Salad', 'user3': 'Pizza',},\n",
    "    'dinner': {'user1': 'Salmon with Vegetables', 'user2': 'Chicken Stir-Fry',  }\n",
    "}\n",
    "\n"
   ]
  },
  {
   "cell_type": "code",
   "execution_count": 11,
   "id": "585d397b",
   "metadata": {},
   "outputs": [],
   "source": [
    "\n",
    "system_recommendations = {\n",
    "    'breakfast': ['Oatmeal', 'Scrambled Eggs', 'Smoothie','Avocado','banana','yogurt'],\n",
    "    'lunch': ['Quinoa Bowl', 'Grilled Chicken Salad','French Fries','noodles'],\n",
    "    'dinner': ['Salmon with Vegetables', 'Chicken Stir-Fry','Brownie','Pasta']\n",
    "}\n"
   ]
  },
  {
   "cell_type": "code",
   "execution_count": 12,
   "id": "5ba7bd44",
   "metadata": {},
   "outputs": [
    {
     "name": "stdout",
     "output_type": "stream",
     "text": [
      "Accuracy of the recommendation system: 87.50%\n"
     ]
    }
   ],
   "source": [
    "def calculate_accuracy(doctor_recommended, system_recommendations):\n",
    "    total_correct = 0\n",
    "    total_recommendations = 0\n",
    "    for meal, feedback in doctor_recommended.items():\n",
    "        for user, recommendation in feedback.items():\n",
    "            if recommendation in system_recommendations[meal]:\n",
    "                total_correct += 1\n",
    "            total_recommendations += 1\n",
    "    accuracy = (total_correct / total_recommendations) * 100\n",
    "    return accuracy\n",
    "\n",
    "accuracy = calculate_accuracy(doctor_recommended, system_recommendations)\n",
    "print(\"Accuracy of the recommendation system: {:.2f}%\".format(accuracy))"
   ]
  },
  {
   "cell_type": "code",
   "execution_count": 13,
   "id": "dc165572",
   "metadata": {},
   "outputs": [],
   "source": [
    "def calculate_bmi_and_recommend():\n",
    "    age = int(age_entry.get())\n",
    "    weight = float(weight_entry.get())\n",
    "    height = float(height_entry.get()) / 100  # Convert height to meters\n",
    "    bmi = weight / (height ** 2)\n",
    "    result_label.config(text=f\"BMI: {bmi:.2f}\")\n",
    "    \n",
    "    goal = goal_var.get()\n",
    "    if goal == \"Gain Weight\":\n",
    "        recommended_breakfast = \", \".join(breakfast_recommendation_train)\n",
    "        recommended_lunch = \", \".join(lunch_recommendation_train)\n",
    "        recommended_dinner = \", \".join(dinner_recommendation_train)\n",
    "        recommendation_label.config(text=f\"Recommended Breakfast: {recommended_breakfast}\\nRecommended Lunch: {recommended_lunch}\\nRecommended Dinner: {recommended_dinner}\")\n",
    "    elif goal == \"Lose Weight\":\n",
    "        recommended_breakfast = \", \".join(breakfast_recommendation_test)\n",
    "        recommended_lunch = \", \".join(lunch_recommendation_test)\n",
    "        recommended_dinner = \", \".join(dinner_recommendation_test)\n",
    "        recommendation_label.config(text=f\"Recommended Breakfast: {recommended_breakfast}\\nRecommended Lunch: {recommended_lunch}\\nRecommended Dinner: {recommended_dinner}\")\n",
    "\n",
    "calculate_button = ttk.Button(input_frame, text=\"Calculate BMI and Recommend Diet\", command=calculate_bmi_and_recommend)\n",
    "calculate_button.grid(row=4, column=0, columnspan=3, sticky=tk.W)\n",
    "\n",
    "\n",
    "result_label = ttk.Label(input_frame, text=\"\")\n",
    "result_label.grid(row=5, column=0, columnspan=3, sticky=tk.W)\n",
    "recommendation_label = ttk.Label(input_frame, text=\"\")\n",
    "recommendation_label.grid(row=6, column=0, columnspan=3, sticky=tk.W)\n",
    "\n",
    "\n",
    "root.mainloop()"
   ]
  },
  {
   "cell_type": "code",
   "execution_count": null,
   "id": "588190f8",
   "metadata": {},
   "outputs": [],
   "source": []
  },
  {
   "cell_type": "code",
   "execution_count": null,
   "id": "76cbf118",
   "metadata": {},
   "outputs": [],
   "source": []
  },
  {
   "cell_type": "code",
   "execution_count": null,
   "id": "57653a7c",
   "metadata": {},
   "outputs": [],
   "source": []
  },
  {
   "cell_type": "code",
   "execution_count": null,
   "id": "004de98c",
   "metadata": {},
   "outputs": [],
   "source": []
  },
  {
   "cell_type": "code",
   "execution_count": null,
   "id": "7e5310a0",
   "metadata": {},
   "outputs": [],
   "source": []
  }
 ],
 "metadata": {
  "kernelspec": {
   "display_name": "Python 3 (ipykernel)",
   "language": "python",
   "name": "python3"
  },
  "language_info": {
   "codemirror_mode": {
    "name": "ipython",
    "version": 3
   },
   "file_extension": ".py",
   "mimetype": "text/x-python",
   "name": "python",
   "nbconvert_exporter": "python",
   "pygments_lexer": "ipython3",
   "version": "3.11.4"
  }
 },
 "nbformat": 4,
 "nbformat_minor": 5
}
